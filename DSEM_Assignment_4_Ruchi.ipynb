{
  "nbformat": 4,
  "nbformat_minor": 0,
  "metadata": {
    "colab": {
      "provenance": []
    },
    "kernelspec": {
      "name": "python3",
      "display_name": "Python 3"
    },
    "language_info": {
      "name": "python"
    }
  },
  "cells": [
    {
      "cell_type": "markdown",
      "source": [
        "# **Assignment 03 - Clustering**"
      ],
      "metadata": {
        "id": "G6DUREflht3l"
      }
    },
    {
      "cell_type": "markdown",
      "source": [
        "### **Perform hierarchical clustering on the Play data and and the data generated with the help of two equations of concentric circles, adding some random noise. Apply various distance measures, including single, multiple, and average linkages, and ward.**"
      ],
      "metadata": {
        "id": "MojS6GEec6Vb"
      }
    },
    {
      "cell_type": "code",
      "execution_count": 22,
      "metadata": {
        "id": "yVs98iKvOtPF",
        "colab": {
          "base_uri": "https://localhost:8080/"
        },
        "outputId": "a457436a-1501-4ef1-f3e8-33ebdb874c03"
      },
      "outputs": [
        {
          "output_type": "stream",
          "name": "stdout",
          "text": [
            "     Outlook  Temperature  Humidity   Windy   Decision\n",
            "0   overcast           72        90  strong       play\n",
            "1   overcast           83        78    weak       play\n",
            "2   overcast           64        65  strong       play\n",
            "3   overcast           81        75    weak       play\n",
            "4      sunny           75        70  strong       play\n",
            "5      sunny           80        90  strong  dont_play\n",
            "6      sunny           85        85    weak  dont_play\n",
            "7      sunny           72        95    weak  dont_play\n",
            "8      sunny           69        70    weak       play\n",
            "9       rain           71        80  strong  dont_play\n",
            "10      rain           65        70  strong  dont_play\n",
            "11      rain           75        80    weak       play\n",
            "12      rain           68        80    weak       play\n",
            "13      rain           70        96    weak       play\n"
          ]
        }
      ],
      "source": [
        "import numpy as np\n",
        "import pandas as pd\n",
        "import matplotlib.pyplot as plt\n",
        "from scipy.cluster.hierarchy import dendrogram, linkage\n",
        "from sklearn.cluster import AgglomerativeClustering\n",
        "\n",
        "playDataset = pd.read_excel(\"play.xlsx\")\n",
        "print(playDataset)"
      ]
    },
    {
      "cell_type": "code",
      "source": [
        "playDataset[\"Decision\"] = playDataset[\"Decision\"].replace([\"play\", \"dont_play\"],[1,0])\n",
        "playDataset = pd.get_dummies(playDataset, columns = [\"Outlook\", \"Windy\"])\n",
        "print(playDataset)"
      ],
      "metadata": {
        "colab": {
          "base_uri": "https://localhost:8080/"
        },
        "id": "E0vJiqLXixJ9",
        "outputId": "43bc8e19-7bd5-422d-d7f8-a6a9dcc2cee7"
      },
      "execution_count": 23,
      "outputs": [
        {
          "output_type": "stream",
          "name": "stdout",
          "text": [
            "    Temperature  Humidity  Decision  Outlook_overcast  Outlook_rain  \\\n",
            "0            72        90         1                 1             0   \n",
            "1            83        78         1                 1             0   \n",
            "2            64        65         1                 1             0   \n",
            "3            81        75         1                 1             0   \n",
            "4            75        70         1                 0             0   \n",
            "5            80        90         0                 0             0   \n",
            "6            85        85         0                 0             0   \n",
            "7            72        95         0                 0             0   \n",
            "8            69        70         1                 0             0   \n",
            "9            71        80         0                 0             1   \n",
            "10           65        70         0                 0             1   \n",
            "11           75        80         1                 0             1   \n",
            "12           68        80         1                 0             1   \n",
            "13           70        96         1                 0             1   \n",
            "\n",
            "    Outlook_sunny  Windy_strong  Windy_weak  \n",
            "0               0             1           0  \n",
            "1               0             0           1  \n",
            "2               0             1           0  \n",
            "3               0             0           1  \n",
            "4               1             1           0  \n",
            "5               1             1           0  \n",
            "6               1             0           1  \n",
            "7               1             0           1  \n",
            "8               1             0           1  \n",
            "9               0             1           0  \n",
            "10              0             1           0  \n",
            "11              0             0           1  \n",
            "12              0             0           1  \n",
            "13              0             0           1  \n"
          ]
        }
      ]
    },
    {
      "cell_type": "code",
      "source": [
        "linkage_data = linkage(playDataset, method=\"ward\", metric=\"euclidean\")\n",
        "dendrogram(linkage_data)\n",
        "plt.show()\n",
        "print(\"\")\n",
        "from scipy.cluster.hierarchy import cut_tree\n",
        "print(cut_tree(linkage_data, n_clusters = 2).T)"
      ],
      "metadata": {
        "colab": {
          "base_uri": "https://localhost:8080/",
          "height": 304
        },
        "id": "JCAPNzQInff8",
        "outputId": "b8d34046-d8ef-456e-cb73-39545e9503e7"
      },
      "execution_count": 24,
      "outputs": [
        {
          "output_type": "display_data",
          "data": {
            "text/plain": [
              "<Figure size 432x288 with 1 Axes>"
            ],
            "image/png": "[encoded data removed]"
          },
          "metadata": {
            "needs_background": "light"
          }
        },
        {
          "output_type": "stream",
          "name": "stdout",
          "text": [
            "\n",
            "[[0 1 1 1 1 0 0 0 1 1 1 1 1 0]]\n"
          ]
        }
      ]
    },
    {
      "cell_type": "code",
      "source": [
        "linkage_data = linkage(playDataset, method=\"single\", metric=\"euclidean\")\n",
        "dendrogram(linkage_data)\n",
        "plt.show()\n",
        "print(\"\")\n",
        "from scipy.cluster.hierarchy import cut_tree\n",
        "print(cut_tree(linkage_data, n_clusters = 2).T)"
      ],
      "metadata": {
        "colab": {
          "base_uri": "https://localhost:8080/",
          "height": 304
        },
        "id": "5mn1BMODnzFm",
        "outputId": "2ad819ce-c9f7-4d83-f694-f07ef8574ba3"
      },
      "execution_count": 25,
      "outputs": [
        {
          "output_type": "display_data",
          "data": {
            "text/plain": [
              "<Figure size 432x288 with 1 Axes>"
            ],
            "image/png": "[encoded data removed]"
          },
          "metadata": {
            "needs_background": "light"
          }
        },
        {
          "output_type": "stream",
          "name": "stdout",
          "text": [
            "\n",
            "[[0 1 1 1 1 1 1 0 1 1 1 1 1 0]]\n"
          ]
        }
      ]
    },
    {
      "cell_type": "code",
      "source": [
        "linkage_data = linkage(playDataset, method=\"complete\", metric=\"euclidean\")\n",
        "dendrogram(linkage_data)\n",
        "plt.show()\n",
        "print(\"\")\n",
        "from scipy.cluster.hierarchy import cut_tree\n",
        "print(cut_tree(linkage_data, n_clusters = 2).T)"
      ],
      "metadata": {
        "colab": {
          "base_uri": "https://localhost:8080/",
          "height": 304
        },
        "id": "sSmvHo4QoEdG",
        "outputId": "6e7ba3de-3467-4f8c-c827-2815fed595c9"
      },
      "execution_count": 26,
      "outputs": [
        {
          "output_type": "display_data",
          "data": {
            "text/plain": [
              "<Figure size 432x288 with 1 Axes>"
            ],
            "image/png": "[encoded data removed]"
          },
          "metadata": {
            "needs_background": "light"
          }
        },
        {
          "output_type": "stream",
          "name": "stdout",
          "text": [
            "\n",
            "[[0 1 1 1 1 0 0 0 1 1 1 1 1 0]]\n"
          ]
        }
      ]
    },
    {
      "cell_type": "code",
      "source": [
        "linkage_data = linkage(playDataset, method=\"average\", metric=\"euclidean\")\n",
        "dendrogram(linkage_data)\n",
        "plt.show()\n",
        "print(\"\")\n",
        "from scipy.cluster.hierarchy import cut_tree\n",
        "print(cut_tree(linkage_data, n_clusters = 2).T)"
      ],
      "metadata": {
        "colab": {
          "base_uri": "https://localhost:8080/",
          "height": 304
        },
        "id": "DcUOPv9hoKEl",
        "outputId": "99093c87-ef34-414c-9597-1b56679e8b66"
      },
      "execution_count": 27,
      "outputs": [
        {
          "output_type": "display_data",
          "data": {
            "text/plain": [
              "<Figure size 432x288 with 1 Axes>"
            ],
            "image/png": "[encoded data removed]"
          },
          "metadata": {
            "needs_background": "light"
          }
        },
        {
          "output_type": "stream",
          "name": "stdout",
          "text": [
            "\n",
            "[[0 0 1 0 1 0 0 0 1 1 1 1 1 0]]\n"
          ]
        }
      ]
    },
    {
      "cell_type": "code",
      "source": [
        "import random\n",
        "import math \n",
        "x1_list = []\n",
        "y1_list = []\n",
        "x2_list = []\n",
        "y2_list = []\n",
        "for i in range (0,360,10):\n",
        "  theta = i * math.pi / 180\n",
        "  r1 = 5\n",
        "  r2 = 10\n",
        "  x1 = r1 * math.cos(theta)\n",
        "  y1 = r1 * math.sin(theta) + random.uniform(0.1, 0.5)\n",
        "  x2 = r2 * math.cos(theta)\n",
        "  y2 = r2 * math.sin(theta) + random.uniform(0.1, 0.5)\n",
        "  x1_list.append(x1)\n",
        "  x2_list.append(x2)\n",
        "  y1_list.append(y1)\n",
        "  y2_list.append(y2)\n",
        "x1_list = x1_list + x2_list\n",
        "y1_list = y1_list + y2_list\n",
        "\n",
        "data= pd.DataFrame(x1_list, columns =['X'])\n",
        "data['Y'] = y1_list\n",
        "\n",
        "hierarchical_cluster = AgglomerativeClustering(n_clusters=2, affinity='euclidean', linkage='single')\n",
        "labels = hierarchical_cluster.fit_predict(data)\n",
        "\n",
        "plt.scatter(data['X'], data['Y'], c=labels)\n",
        "plt.show()"
      ],
      "metadata": {
        "id": "3frdaDLH7dBL",
        "colab": {
          "base_uri": "https://localhost:8080/",
          "height": 265
        },
        "outputId": "fa76f042-82fe-4060-8274-b3f78aee8ad8"
      },
      "execution_count": 34,
      "outputs": [
        {
          "output_type": "display_data",
          "data": {
            "text/plain": [
              "<Figure size 432x288 with 1 Axes>"
            ],
            "image/png": "[encoded data removed]"
          },
          "metadata": {
            "needs_background": "light"
          }
        }
      ]
    },
    {
      "cell_type": "markdown",
      "source": [
        "\n",
        "### **Perform k-Means clustering on the Play data and also Boston housing data and arrive at an optimal number of clusters via the elbow method.**"
      ],
      "metadata": {
        "id": "ASuBl1CSobsZ"
      }
    },
    {
      "cell_type": "code",
      "source": [
        "import numpy as np\n",
        "import pandas as pd\n",
        "import matplotlib.pyplot as plt\n",
        "from sklearn.cluster import KMeans\n",
        "playDataset = pd.read_excel(\"play.xlsx\")\n",
        "print(playDataset)"
      ],
      "metadata": {
        "colab": {
          "base_uri": "https://localhost:8080/"
        },
        "id": "jdEuc_choeCy",
        "outputId": "bb7076f2-2080-4a10-dfe3-138ec52e818c"
      },
      "execution_count": 35,
      "outputs": [
        {
          "output_type": "stream",
          "name": "stdout",
          "text": [
            "     Outlook  Temperature  Humidity   Windy   Decision\n",
            "0   overcast           72        90  strong       play\n",
            "1   overcast           83        78    weak       play\n",
            "2   overcast           64        65  strong       play\n",
            "3   overcast           81        75    weak       play\n",
            "4      sunny           75        70  strong       play\n",
            "5      sunny           80        90  strong  dont_play\n",
            "6      sunny           85        85    weak  dont_play\n",
            "7      sunny           72        95    weak  dont_play\n",
            "8      sunny           69        70    weak       play\n",
            "9       rain           71        80  strong  dont_play\n",
            "10      rain           65        70  strong  dont_play\n",
            "11      rain           75        80    weak       play\n",
            "12      rain           68        80    weak       play\n",
            "13      rain           70        96    weak       play\n"
          ]
        }
      ]
    },
    {
      "cell_type": "code",
      "source": [
        "playDataset[\"Decision\"] = playDataset[\"Decision\"].replace([\"play\", \"dont_play\"],[1,0])\n",
        "playDataset = pd.get_dummies(playDataset, columns = [\"Outlook\", \"Windy\"])\n",
        "print(playDataset)"
      ],
      "metadata": {
        "colab": {
          "base_uri": "https://localhost:8080/"
        },
        "id": "N45l2DofpqWh",
        "outputId": "20ceb966-59e5-4b5f-8e82-b6fb0138c9e2"
      },
      "execution_count": 36,
      "outputs": [
        {
          "output_type": "stream",
          "name": "stdout",
          "text": [
            "    Temperature  Humidity  Decision  Outlook_overcast  Outlook_rain  \\\n",
            "0            72        90         1                 1             0   \n",
            "1            83        78         1                 1             0   \n",
            "2            64        65         1                 1             0   \n",
            "3            81        75         1                 1             0   \n",
            "4            75        70         1                 0             0   \n",
            "5            80        90         0                 0             0   \n",
            "6            85        85         0                 0             0   \n",
            "7            72        95         0                 0             0   \n",
            "8            69        70         1                 0             0   \n",
            "9            71        80         0                 0             1   \n",
            "10           65        70         0                 0             1   \n",
            "11           75        80         1                 0             1   \n",
            "12           68        80         1                 0             1   \n",
            "13           70        96         1                 0             1   \n",
            "\n",
            "    Outlook_sunny  Windy_strong  Windy_weak  \n",
            "0               0             1           0  \n",
            "1               0             0           1  \n",
            "2               0             1           0  \n",
            "3               0             0           1  \n",
            "4               1             1           0  \n",
            "5               1             1           0  \n",
            "6               1             0           1  \n",
            "7               1             0           1  \n",
            "8               1             0           1  \n",
            "9               0             1           0  \n",
            "10              0             1           0  \n",
            "11              0             0           1  \n",
            "12              0             0           1  \n",
            "13              0             0           1  \n"
          ]
        }
      ]
    },
    {
      "cell_type": "code",
      "source": [
        "data = []\n",
        "for i in range(1,11):\n",
        "    kmeans = KMeans(n_clusters=i)\n",
        "    kmeans.fit(playDataset)\n",
        "    data.append(kmeans.inertia_)\n",
        "plt.plot(range(1,11), data, marker=\"o\")\n",
        "plt.show()"
      ],
      "metadata": {
        "colab": {
          "base_uri": "https://localhost:8080/",
          "height": 265
        },
        "id": "T3rIJgWyp9VE",
        "outputId": "8ce7b751-a3ff-4d2b-da2a-ce174881bf60"
      },
      "execution_count": 37,
      "outputs": [
        {
          "output_type": "display_data",
          "data": {
            "text/plain": [
              "<Figure size 432x288 with 1 Axes>"
            ],
            "image/png": "[encoded data removed]"
          },
          "metadata": {
            "needs_background": "light"
          }
        }
      ]
    },
    {
      "cell_type": "markdown",
      "source": [
        "### **Optimal number of clusters via the elbow method for play data is: 2**"
      ],
      "metadata": {
        "id": "51dCGdR2wuPD"
      }
    },
    {
      "cell_type": "code",
      "source": [
        "! pip install --upgrade xlrd"
      ],
      "metadata": {
        "colab": {
          "base_uri": "https://localhost:8080/"
        },
        "id": "K4oz1oD4yblp",
        "outputId": "f7cf1d45-bc55-477d-f835-69981670a31c"
      },
      "execution_count": 38,
      "outputs": [
        {
          "output_type": "stream",
          "name": "stdout",
          "text": [
            "Looking in indexes: https://pypi.org/simple, https://us-python.pkg.dev/colab-wheels/public/simple/\n",
            "Requirement already satisfied: xlrd in /usr/local/lib/python3.8/dist-packages (2.0.1)\n"
          ]
        }
      ]
    },
    {
      "cell_type": "code",
      "source": [
        "import numpy as np\n",
        "import pandas as pd\n",
        "from sklearn.cluster import KMeans\n",
        "housingDataset = pd.read_excel(\"boston housing.xls\")\n",
        "print(housingDataset)"
      ],
      "metadata": {
        "colab": {
          "base_uri": "https://localhost:8080/"
        },
        "id": "0CbvfolYxses",
        "outputId": "43d9c86e-9969-466c-9abf-6cf0271c5452"
      },
      "execution_count": 31,
      "outputs": [
        {
          "output_type": "stream",
          "name": "stdout",
          "text": [
            "        CRIM    ZN  INDUS  CHAS    NOX     RM        AGE     DIS  RAD  TAX  \\\n",
            "0    0.00632  18.0   2.31     0  0.538  6.575  65.199997  4.0900    1  296   \n",
            "1    0.02731   0.0   7.07     0  0.469  6.421  78.900002  4.9671    2  242   \n",
            "2    0.02729   0.0   7.07     0  0.469  7.185  61.099998  4.9671    2  242   \n",
            "3    0.03237   0.0   2.18     0  0.458  6.998  45.799999  6.0622    3  222   \n",
            "4    0.06905   0.0   2.18     0  0.458  7.147  54.200001  6.0622    3  222   \n",
            "..       ...   ...    ...   ...    ...    ...        ...     ...  ...  ...   \n",
            "501  0.06263   0.0  11.93     0  0.573  6.593  69.099998  2.4786    1  273   \n",
            "502  0.04527   0.0  11.93     0  0.573  6.120  76.699997  2.2875    1  273   \n",
            "503  0.06076   0.0  11.93     0  0.573  6.976  91.000000  2.1675    1  273   \n",
            "504  0.10959   0.0  11.93     0  0.573  6.794  89.300003  2.3889    1  273   \n",
            "505  0.04741   0.0  11.93     0  0.573  6.030  80.800003  2.5050    1  273   \n",
            "\n",
            "            PT           B  LSTAT         MV  \n",
            "0    15.300000  396.899994   4.98  24.000000  \n",
            "1    17.799999  396.899994   9.14  21.600000  \n",
            "2    17.799999  392.829987   4.03  34.700001  \n",
            "3    18.700001  394.630005   2.94  33.400002  \n",
            "4    18.700001  396.899994   5.33  36.200001  \n",
            "..         ...         ...    ...        ...  \n",
            "501  21.000000  391.989990   9.67  22.400000  \n",
            "502  21.000000  396.899994   9.08  20.600000  \n",
            "503  21.000000  396.899994   5.64  23.900000  \n",
            "504  21.000000  393.450012   6.48  22.000000  \n",
            "505  21.000000  396.899994   7.88  11.900000  \n",
            "\n",
            "[506 rows x 14 columns]\n"
          ]
        }
      ]
    },
    {
      "cell_type": "code",
      "source": [
        "data = []\n",
        "for i in range(1,11):\n",
        "    kmeans = KMeans(n_clusters=i)\n",
        "    kmeans.fit(housingDataset)\n",
        "    data.append(kmeans.inertia_)\n",
        "plt.plot(range(1,11), data, marker=\"o\")\n",
        "plt.show()"
      ],
      "metadata": {
        "colab": {
          "base_uri": "https://localhost:8080/",
          "height": 276
        },
        "id": "BlnohYzny3nw",
        "outputId": "7389a3ae-7f9d-4285-ab9d-d297157c0209"
      },
      "execution_count": 39,
      "outputs": [
        {
          "output_type": "display_data",
          "data": {
            "text/plain": [
              "<Figure size 432x288 with 1 Axes>"
            ],
            "image/png": "[encoded data removed]"
          },
          "metadata": {
            "needs_background": "light"
          }
        }
      ]
    },
    {
      "cell_type": "markdown",
      "source": [
        "### **Optimal number of clusters via the elbow method for boston housing data is: 2**"
      ],
      "metadata": {
        "id": "j8HCQr2czQ6r"
      }
    }
  ]
}